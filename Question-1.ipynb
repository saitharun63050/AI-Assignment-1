{
 "cells": [
  {
   "cell_type": "code",
   "execution_count": null,
   "id": "e776db50",
   "metadata": {},
   "outputs": [],
   "source": [
    "Artificial Intelligence"
   ]
  },
  {
   "cell_type": "code",
   "execution_count": null,
   "id": "e84d81d1",
   "metadata": {},
   "outputs": [],
   "source": [
    "\n",
    "Assignment-1"
   ]
  },
  {
   "cell_type": "code",
   "execution_count": 14,
   "id": "081fd6b8",
   "metadata": {},
   "outputs": [],
   "source": [
    "initial_state = ['E', 'E', 'E', '_', 'W', 'W', 'W']\n",
    "goal_state = ['W', 'W', 'W', '_', 'E', 'E', 'E']"
   ]
  },
  {
   "cell_type": "code",
   "execution_count": 15,
   "id": "c607926b",
   "metadata": {},
   "outputs": [],
   "source": [
    "initial = tuple(initial_state)\n",
    "goal = tuple(goal_state)"
   ]
  },
  {
   "cell_type": "code",
   "execution_count": 18,
   "id": "d857feb0",
   "metadata": {},
   "outputs": [],
   "source": [
    "def get_next_states(state):\n",
    "    states = []\n",
    "    for i in range(len(state)):\n",
    "        if state[i] == 'E':\n",
    "            # Move one step right\n",
    "            if i + 1 < len(state) and state[i + 1] == '_':\n",
    "                new = list(state)\n",
    "                new[i], new[i + 1] = new[i + 1], new[i]\n",
    "                states.append(tuple(new))\n",
    "            # Jump over one to right\n",
    "            if i + 2 < len(state) and state[i + 1] in ('E', 'W') and state[i + 2] == '_':\n",
    "                new = list(state)\n",
    "                new[i], new[i + 2] = new[i + 2], new[i]\n",
    "                states.append(tuple(new))\n",
    "        elif state[i] == 'W':\n",
    "            # Move one step left\n",
    "            if i - 1 >= 0 and state[i - 1] == '_':\n",
    "                new = list(state)\n",
    "                new[i], new[i - 1] = new[i - 1], new[i]\n",
    "                states.append(tuple(new))\n",
    "            # Jump over one to left\n",
    "            if i - 2 >= 0 and state[i - 1] in ('E', 'W') and state[i - 2] == '_':\n",
    "                new = list(state)\n",
    "                new[i], new[i - 2] = new[i - 2], new[i]\n",
    "                states.append(tuple(new))\n",
    "    return states"
   ]
  },
  {
   "cell_type": "code",
   "execution_count": 19,
   "id": "4a92c0f2",
   "metadata": {},
   "outputs": [],
   "source": [
    "def bfs(start, goal):\n",
    "    queue = [(start, [start])]\n",
    "    visited = set()\n",
    "    while queue:\n",
    "        current_state, path = queue[0]\n",
    "        queue = queue[1:]  \n",
    "        if current_state == goal:\n",
    "            return path\n",
    "        visited.add(current_state)\n",
    "        for next_state in get_next_states(current_state):\n",
    "            if next_state not in visited:\n",
    "                queue.append((next_state, path + [next_state]))\n",
    "    return None"
   ]
  },
  {
   "cell_type": "code",
   "execution_count": 20,
   "id": "77e37ac5",
   "metadata": {},
   "outputs": [
    {
     "name": "stdout",
     "output_type": "stream",
     "text": [
      "Solution found in 15 moves:\n",
      "EEE_WWW\n",
      "EE_EWWW\n",
      "EEWE_WW\n",
      "EEWEW_W\n",
      "EEW_WEW\n",
      "E_WEWEW\n",
      "_EWEWEW\n",
      "WE_EWEW\n",
      "WEWE_EW\n",
      "WEWEWE_\n",
      "WEWEW_E\n",
      "WEW_WEE\n",
      "W_WEWEE\n",
      "WW_EWEE\n",
      "WWWE_EE\n",
      "WWW_EEE\n"
     ]
    }
   ],
   "source": [
    "solution_path = bfs(initial, goal)\n",
    "if solution_path:\n",
    "    print(\"Solution found in {} moves:\".format(len(solution_path) - 1))\n",
    "    for step in solution_path:\n",
    "        print(''.join(step))\n",
    "else:\n",
    "    print(\"No solution found.\")"
   ]
  },
  {
   "cell_type": "code",
   "execution_count": null,
   "id": "5bb44afe",
   "metadata": {},
   "outputs": [],
   "source": []
  },
  {
   "cell_type": "code",
   "execution_count": null,
   "id": "22d62174",
   "metadata": {},
   "outputs": [],
   "source": []
  }
 ],
 "metadata": {
  "kernelspec": {
   "display_name": "Python 3 (ipykernel)",
   "language": "python",
   "name": "python3"
  },
  "language_info": {
   "codemirror_mode": {
    "name": "ipython",
    "version": 3
   },
   "file_extension": ".py",
   "mimetype": "text/x-python",
   "name": "python",
   "nbconvert_exporter": "python",
   "pygments_lexer": "ipython3",
   "version": "3.12.3"
  }
 },
 "nbformat": 4,
 "nbformat_minor": 5
}
