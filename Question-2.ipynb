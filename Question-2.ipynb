{
 "cells": [
  {
   "cell_type": "code",
   "execution_count": 5,
   "id": "ff0d25f2-3175-4701-8500-3eecb7fa3989",
   "metadata": {},
   "outputs": [
    {
     "name": "stdout",
     "output_type": "stream",
     "text": [
      "\n",
      "BFS - Bridge Crossing:\n",
      "(frozenset({'Ameya', 'Grandpa', 'Amogh', 'Grandma'}), frozenset(), 0)\n",
      "(frozenset({'Grandpa', 'Grandma'}), frozenset({'Ameya', 'Amogh'}), 10)\n",
      "(frozenset({'Grandpa', 'Ameya', 'Grandma'}), frozenset({'Amogh'}), 20)\n",
      "(frozenset({'Ameya'}), frozenset({'Grandpa', 'Amogh', 'Grandma'}), 45)\n",
      "(frozenset({'Ameya', 'Amogh'}), frozenset({'Grandpa', 'Grandma'}), 50)\n",
      "(frozenset(), frozenset({'Grandpa', 'Ameya', 'Grandma', 'Amogh'}), 60)\n"
     ]
    }
   ],
   "source": [
    "from collections import deque\n",
    "\n",
    "def bfs_bridge():\n",
    "    people = {'Amogh': 5, 'Ameya': 10, 'Grandma': 20, 'Grandpa': 25}\n",
    "    start = (frozenset(people.keys()), frozenset(), 0, 'left')\n",
    "    queue = deque([(start, [])])\n",
    "    visited = set()\n",
    "\n",
    "    while queue:\n",
    "        (left, right, time, pos), path = queue.popleft()\n",
    "\n",
    "        if time > 60:\n",
    "            continue\n",
    "        if not left:  # all crossed\n",
    "            return path + [(left, right, time)]\n",
    "\n",
    "        key = (left, right, pos)\n",
    "        if key in visited:\n",
    "            continue\n",
    "        visited.add(key)\n",
    "\n",
    "        if pos == 'left':\n",
    "            left_sorted = sorted(left)\n",
    "            for i in range(len(left_sorted)):\n",
    "                for j in range(i+1, len(left_sorted)):\n",
    "                    p1, p2 = left_sorted[i], left_sorted[j]\n",
    "                    new_left = set(left) - {p1, p2}\n",
    "                    new_right = set(right) | {p1, p2}\n",
    "                    new_time = time + max(people[p1], people[p2])\n",
    "                    queue.append(((frozenset(new_left), frozenset(new_right), new_time, 'right'), path + [(left, right, time)]))\n",
    "        else:\n",
    "            right_sorted = sorted(right)\n",
    "            for p in right_sorted:\n",
    "                new_left = set(left) | {p}\n",
    "                new_right = set(right) - {p}\n",
    "                new_time = time + people[p]\n",
    "                queue.append(((frozenset(new_left), frozenset(new_right), new_time, 'left'), path + [(left, right, time)]))\n",
    "\n",
    "    return None\n",
    "\n",
    "# Run BFS\n",
    "solution = bfs_bridge()\n",
    "print(\"\\nBFS - Bridge Crossing:\")\n",
    "if solution is None:\n",
    "    print(\"No solution found within 60 minutes.\")\n",
    "else:\n",
    "    for step in solution:\n",
    "        print(step)\n"
   ]
  },
  {
   "cell_type": "code",
   "execution_count": 7,
   "id": "e67a9ecf-2b82-49ef-bd8a-be6406facc45",
   "metadata": {},
   "outputs": [
    {
     "name": "stdout",
     "output_type": "stream",
     "text": [
      "\n",
      "DFS - Bridge Crossing:\n",
      "No solution found within 60 minutes.\n"
     ]
    }
   ],
   "source": [
    "from collections import deque\n",
    "\n",
    "def dfs_bridge():\n",
    "    people = {'Amogh': 5, 'Ameya': 10, 'Grandma': 20, 'Grandpa': 25}\n",
    "    start = (frozenset(people.keys()), frozenset(), 0, 'left')\n",
    "    stack = [(start, [])]\n",
    "    visited = set()\n",
    "\n",
    "    while stack:\n",
    "        (left, right, time, pos), path = stack.pop()\n",
    "\n",
    "        if time > 60:\n",
    "            continue\n",
    "        if not left:\n",
    "            return path + [(left, right, time)]\n",
    "\n",
    "        key = (left, right, pos)\n",
    "        if key in visited:\n",
    "            continue\n",
    "        visited.add(key)\n",
    "\n",
    "        if pos == 'left':\n",
    "            left_sorted = sorted(left)\n",
    "            for i in range(len(left_sorted)):\n",
    "                for j in range(i + 1, len(left_sorted)):\n",
    "                    p1, p2 = left_sorted[i], left_sorted[j]\n",
    "                    new_left = set(left) - {p1, p2}\n",
    "                    new_right = set(right) | {p1, p2}\n",
    "                    new_time = time + max(people[p1], people[p2])\n",
    "                    stack.append(((frozenset(new_left), frozenset(new_right), new_time, 'right'), path + [(left, right, time)]))\n",
    "        else:\n",
    "            right_sorted = sorted(right)\n",
    "            for p in right_sorted:\n",
    "                new_left = set(left) | {p}\n",
    "                new_right = set(right) - {p}\n",
    "                new_time = time + people[p]\n",
    "                stack.append(((frozenset(new_left), frozenset(new_right), new_time, 'left'), path + [(left, right, time)]))\n",
    "\n",
    "    return None\n",
    "\n",
    "# Run DFS\n",
    "solution = dfs_bridge()\n",
    "print(\"\\nDFS - Bridge Crossing:\")\n",
    "if solution is None:\n",
    "    print(\"No solution found within 60 minutes.\")\n",
    "else:\n",
    "    for step in solution:\n",
    "        print(step)\n"
   ]
  }
 ],
 "metadata": {
  "kernelspec": {
   "display_name": "Python 3 (ipykernel)",
   "language": "python",
   "name": "python3"
  },
  "language_info": {
   "codemirror_mode": {
    "name": "ipython",
    "version": 3
   },
   "file_extension": ".py",
   "mimetype": "text/x-python",
   "name": "python",
   "nbconvert_exporter": "python",
   "pygments_lexer": "ipython3",
   "version": "3.10.12"
  }
 },
 "nbformat": 4,
 "nbformat_minor": 5
}
